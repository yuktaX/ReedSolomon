{
  "cells": [
    {
      "cell_type": "markdown",
      "metadata": {
        "id": "view-in-github",
        "colab_type": "text"
      },
      "source": [
        "<a href=\"https://colab.research.google.com/github/yuktaX/ReedSolomon/blob/main/NT_Assignment.ipynb\" target=\"_parent\"><img src=\"https://colab.research.google.com/assets/colab-badge.svg\" alt=\"Open In Colab\"/></a>"
      ]
    },
    {
      "cell_type": "markdown",
      "source": [
        "**Team Members**\n",
        "1. Yukta Arvind Rajapur - IMT2021066\n",
        "2. Brij Bidhin Desai - IMT2021067"
      ],
      "metadata": {
        "id": "42scMSKvPUcq"
      }
    },
    {
      "cell_type": "markdown",
      "metadata": {
        "id": "IYFkDkQ2xVwx"
      },
      "source": [
        "# Reed Solomon Code Implementaion\n",
        "The following code implements Reed Solomans code for message trasmission and recovery. It uses intermediate functions such as Binary EGCD, and CRT. Before running the main code, make sure to run all the cells before it. The following cells are:\n",
        "1. pip installs - Installs needed libraries\n",
        "2. Intermediate functions - Binary EGCD, CRT, GlobalSetup(), Trasmit(), ReedSolomonSend(), ReedSolomonReceive()\n",
        "3. User-input Main - If you want to execute your own custom testcase, run this cell\n",
        "4. Executable main - Run this cell if you want to test a predefined testcase below\n",
        "5. Testcase cells - Run whichever predefined case you want to test"
      ]
    },
    {
      "cell_type": "code",
      "execution_count": 1,
      "metadata": {
        "id": "Up2XAGypVI5R",
        "colab": {
          "base_uri": "https://localhost:8080/"
        },
        "outputId": "e7723cc9-e6fb-4cca-a13b-ab0fd990f03a"
      },
      "outputs": [
        {
          "output_type": "stream",
          "name": "stdout",
          "text": [
            "Looking in indexes: https://pypi.org/simple, https://us-python.pkg.dev/colab-wheels/public/simple/\n",
            "Requirement already satisfied: gmpy2 in /usr/local/lib/python3.10/dist-packages (2.1.5)\n"
          ]
        }
      ],
      "source": [
        "pip install gmpy2            "
      ]
    },
    {
      "cell_type": "code",
      "execution_count": 27,
      "metadata": {
        "id": "cRkgD_lcVGKz"
      },
      "outputs": [],
      "source": [
        "from functools import reduce\n",
        "import random\n",
        "from math import floor\n",
        "\n",
        "def divisible_by_2(x):\n",
        "  return x % 2 == 0 \n",
        "\n",
        "def binaryEGCD(a,b):\n",
        "  r1, r2, e = a, b, 0\n",
        "  while divisible_by_2(r1) and divisible_by_2(r2):\n",
        "    r1 = r1 >> 1\n",
        "    r2 = r2 >> 1\n",
        "    e += 1\n",
        "\n",
        "  a1, b1, s0, t0, s1, t1 = r1, r2, 1, 0, 0, 1\n",
        "\n",
        "  while(r2 > 0):\n",
        "\n",
        "    while divisible_by_2(r1):\n",
        "      r1 = r1 >> 1\n",
        "      if divisible_by_2(s0) and divisible_by_2(t0):\n",
        "        s0 = s0 >> 1\n",
        "        t0 = t0 >> 1\n",
        "      else:\n",
        "        s0, t0 = (s0 + b1) >> 1, (t0 - a1) >> 1\n",
        "\n",
        "    while divisible_by_2(r2):\n",
        "      r2 = r2 >> 1\n",
        "      if divisible_by_2(s1) and divisible_by_2(t1):\n",
        "        s1 = s1 >> 1\n",
        "        t1 = t1 >> 1\n",
        "      else:\n",
        "        s1, t1 = (s1 + b1) >> 1, (t1 - a1) >> 1\n",
        "    \n",
        "    if r2 < r1: #swap\n",
        "      r1, s0, t0, r2, s1, t1 = r2, s1, t1, r1, s0, t0\n",
        "\n",
        "    r2 -= r1\n",
        "    s1 -= s0\n",
        "    t1 -= t0\n",
        "\n",
        "  d = (2**e)*r1\n",
        "  egcd = [d, s0, t0]\n",
        "  return egcd\n",
        "\n",
        "\n",
        "def EGCD(a, b, complete = True, r_star = 0):\n",
        "  r, r1 = a, b\n",
        "  s0, s1, t0, t1 = 1, 0, 0, 1\n",
        "  while r1 != 0:\n",
        "    q = r // r1\n",
        "    r2 = r % r1\n",
        "    r, s0, t0, r1, s1, t1 = r1, s1, t1, r2, s0 - s1*q, t0 - t1*q\n",
        "\n",
        "    #if we need specific r', s', t'\n",
        "    if complete == False and r <= r_star:\n",
        "      return [r, s0, t0]\n",
        "\n",
        "  d = r\n",
        "  return [d, s0, t0]\n",
        "\n",
        "def crtEncode(a, N, k):\n",
        "  aList = []\n",
        "  for i in range(k):\n",
        "    aList.append(a % N[i])\n",
        "  return aList\n",
        "\n",
        "def crtDecode(A, N, k):\n",
        "  n = mpz(reduce((lambda x, y: x * y), N))\n",
        "  E = []\n",
        "  a = 0\n",
        "  for i in range (k):\n",
        "    n_tmp = mpz(n//N[i])\n",
        "    b_tmp = mpz(n_tmp % N[i])\n",
        "    t_tmp = binaryEGCD(N[i], b_tmp)[2]\n",
        "    if t_tmp >= 0:\n",
        "      t_tmp = t_tmp\n",
        "    else:\n",
        "      t_tmp = t_tmp + N[i]\n",
        "    E.append((n_tmp*t_tmp))\n",
        "  for i in range(k):\n",
        "    a += A[i]*E[i]\n",
        "  a = a % n\n",
        "  return a\n",
        "\n",
        "def GlobalSetup(u, M):\n",
        "  # we want to find k primes whose product n satisfies n > 2MP^2\n",
        "  \n",
        "  # assuming the largest prime available is 2^8, P = (2^8)^l = (2^8)^(u*k)\n",
        "  \n",
        "  # Hence, the value of P changes every time a prime is found in the\n",
        "  # while loop\n",
        "  \n",
        "  # P_sq = (2^16)^l = (2^16)^(u*k)\n",
        "  \n",
        "  # initially we will take P_sq to be (2^16)^(u) and keep multiplying it\n",
        "  # with cutoff everytime a prime is found in the while loop\n",
        "  \n",
        "  primes = []\n",
        "  P_sq = mpfr(2**(32*u))\n",
        "  initial_val = mpz(2**16 - 1)\n",
        "  cutoff = mpz(2*M)\n",
        "  product = mpz(1)\n",
        "  \n",
        "  while (cutoff >= product):\n",
        "    if initial_val.is_prime() == True:\n",
        "      primes.append(initial_val)\n",
        "      product *= initial_val\n",
        "      cutoff *= P_sq\n",
        "\n",
        "    initial_val -= 2\n",
        "   \n",
        "  return primes\n",
        "\n",
        "def Transmit(A):\n",
        "  k = len(primes)\n",
        "  l = random.randint(0, int(u*k))\n",
        "  bad_indices = [0]*k\n",
        "  count = 0\n",
        "  while (count <= l):\n",
        "    random_index = random.randint(0, k-1)\n",
        "    if bad_indices[random_index] == 0:\n",
        "      bad_indices[random_index] = 1\n",
        "      count += 1\n",
        "    \n",
        "  B = []\n",
        "  for i in range(k):\n",
        "    if bad_indices[i] == 1:\n",
        "      new_val = random.randint(0, primes[i] - 1)\n",
        "      while new_val == A[i]:\n",
        "        new_val = random.randint(0, primes[i] - 1)\n",
        "      B.append(new_val)\n",
        "    else:\n",
        "      B.append(A[i])\n",
        "  return B\n",
        "\n",
        "def ReedSolomonSend(a):\n",
        "  A = crtEncode(a, primes, k)\n",
        "  return Transmit(A)\n",
        "\n",
        "def ReedSolomonReceive(b):\n",
        "  global primes, k, P, M\n",
        "  msg_rcv = b\n",
        "  msg_reconstructed = crtDecode(msg_rcv, primes, len(primes))\n",
        "  n = reduce((lambda x, y: x * y), primes)\n",
        "  res = EGCD(n, msg_reconstructed, False, M*P)\n",
        "  r_dash, s_dash, t_dash = res[0], res[1], res[2]\n",
        "  if r_dash % t_dash == 0:\n",
        "    print(\"Success\")\n",
        "    print(\"Message receieved = \", r_dash // t_dash)\n",
        "  else:\n",
        "    print(\"Error, recovery failed\")\n",
        "    print(\"Message received = \", msg_reconstructed)"
      ]
    },
    {
      "cell_type": "code",
      "execution_count": 48,
      "metadata": {
        "id": "dG6J7IzBJdOh",
        "colab": {
          "base_uri": "https://localhost:8080/"
        },
        "outputId": "cfb2527d-ff08-4334-a20f-a9cabeddfef8"
      },
      "outputs": [
        {
          "output_type": "stream",
          "name": "stdout",
          "text": [
            "Enter the number of bits of the message: 1000\n",
            "Enter message a: 2479515631440564111848484445589631447856582658641244966555997783002587\n",
            "Enter corruption factor(u), a value 0<u<1: 0.1\n",
            "Success\n",
            "Message receieved =  2479515631440564111848484445589631447856582658641244966555997783002587\n"
          ]
        }
      ],
      "source": [
        "#main-user input based\n",
        "from gmpy2 import mpz, mpfr, is_prime\n",
        "\n",
        "length_of_msg = int(input(\"Enter the number of bits of the message: \"))\n",
        "if length_of_msg <= 0:\n",
        "  print(\"It has to be a positive number\")\n",
        "  exit()\n",
        "#Set M = 2**l as upper bound\n",
        "M = mpz(1 << length_of_msg)\n",
        "\n",
        "while(1):\n",
        "  a = int(input(\"Enter message a: \"))\n",
        "  if a > M:\n",
        "    print(\"a has to be smaller than \", M)\n",
        "  else:\n",
        "    break\n",
        "    \n",
        "while(1):\n",
        "  u = float(input(\"Enter corruption factor(u), a value 0<u<1: \"))\n",
        "  if u < 0 or u > 1:\n",
        "    print(\"It has to be a fractional value between 0 and 1\")\n",
        "  else:\n",
        "    break\n",
        "\n",
        "primes = GlobalSetup(u, M)\n",
        "k = len(primes)\n",
        "l = floor(u*k)\n",
        "P_arr = sorted(primes, reverse = True)\n",
        "P = mpz(1)\n",
        "for i in range(l):\n",
        "  P = P*P_arr[i]\n",
        "#print(\"P: \", P)\n",
        "ReedSolomonReceive(ReedSolomonSend(a))\n"
      ]
    },
    {
      "cell_type": "code",
      "execution_count": 47,
      "metadata": {
        "id": "chYRFSI7Fr6y"
      },
      "outputs": [],
      "source": [
        "#main-executable\n",
        "from gmpy2 import mpz, mpfr, is_prime\n",
        "\n",
        "def main(length_of_msg, a, u):\n",
        "  print(\"Message sent:\", a)\n",
        "  M = mpz(1 << length_of_msg)\n",
        "  primes = GlobalSetup(u, M)\n",
        "  k = len(primes)\n",
        "  l = floor(u*k)\n",
        "  P_arr = sorted(primes, reverse = True)\n",
        "  P = mpz(1)\n",
        "  for i in range(l):\n",
        "    P = P*P_arr[i]\n",
        "  #print(\"P: \", P)\n",
        "  ReedSolomonReceive(ReedSolomonSend(a))"
      ]
    },
    {
      "cell_type": "code",
      "execution_count": 29,
      "metadata": {
        "id": "jQZJ8_RHFb8I",
        "colab": {
          "base_uri": "https://localhost:8080/"
        },
        "outputId": "e9da1e9b-9f51-4b8b-f599-97f036432291"
      },
      "outputs": [
        {
          "output_type": "stream",
          "name": "stdout",
          "text": [
            "Message sent: 9943\n",
            "Error, recovery failed\n",
            "Message received =  3520018218\n"
          ]
        }
      ],
      "source": [
        "#Testcase 1\n",
        "length_of_msg = 16\n",
        "u = 0.1\n",
        "a = 9943\n",
        "main(length_of_msg, a, u)"
      ]
    },
    {
      "cell_type": "code",
      "execution_count": 30,
      "metadata": {
        "id": "LFHUMnT1Gt4m",
        "colab": {
          "base_uri": "https://localhost:8080/"
        },
        "outputId": "c4767972-cb45-4391-cf07-a8574b18bb04"
      },
      "outputs": [
        {
          "output_type": "stream",
          "name": "stdout",
          "text": [
            "Message sent: 55889\n",
            "Error, recovery failed\n",
            "Message received =  3029091719\n"
          ]
        }
      ],
      "source": [
        "#Testcase 2\n",
        "length_of_msg = 16\n",
        "u = 0.2\n",
        "a = 55889\n",
        "main(length_of_msg, a, u)"
      ]
    },
    {
      "cell_type": "code",
      "execution_count": 31,
      "metadata": {
        "id": "_-8ywXqiHV3Z",
        "colab": {
          "base_uri": "https://localhost:8080/"
        },
        "outputId": "64e1a2e9-b9f6-4758-b401-9748b50fbdf7"
      },
      "outputs": [
        {
          "output_type": "stream",
          "name": "stdout",
          "text": [
            "Message sent: 818153\n",
            "Error, recovery failed\n",
            "Message received =  3223763282\n"
          ]
        }
      ],
      "source": [
        "#Testcase 3\n",
        "length_of_msg = 20\n",
        "u = 0.4\n",
        "a = 818153\n",
        "main(length_of_msg, a, u)"
      ]
    },
    {
      "cell_type": "code",
      "execution_count": 32,
      "metadata": {
        "id": "0G7UQ8SrJjCo",
        "colab": {
          "base_uri": "https://localhost:8080/"
        },
        "outputId": "e045b419-3b70-4262-96b5-31a098e21437"
      },
      "outputs": [
        {
          "output_type": "stream",
          "name": "stdout",
          "text": [
            "Message sent: 714401401184811\n",
            "Error, recovery failed\n",
            "Message received =  4176236434\n"
          ]
        }
      ],
      "source": [
        "#Testcase 4\n",
        "length_of_msg = 50\n",
        "u = 0.4\n",
        "a = 714401401184811\n",
        "main(length_of_msg, a, u)"
      ]
    },
    {
      "cell_type": "code",
      "execution_count": 36,
      "metadata": {
        "id": "vz4UunSmU3rQ",
        "colab": {
          "base_uri": "https://localhost:8080/"
        },
        "outputId": "1a03b930-6c27-413d-f2e0-c037954e55d4"
      },
      "outputs": [
        {
          "output_type": "stream",
          "name": "stdout",
          "text": [
            "Message sent: 314405641118484844\n",
            "Success\n",
            "Message receieved =  314405641118484844\n"
          ]
        }
      ],
      "source": [
        "#Testcase 5\n",
        "length_of_msg = 100\n",
        "u = 0.1\n",
        "a = 314405641118484844\n",
        "main(length_of_msg, a, u)"
      ]
    },
    {
      "cell_type": "code",
      "source": [
        "#Testcase 6\n",
        "length_of_msg = 1000\n",
        "u = 0.1\n",
        "a = 2479515631440564111848484445589631447856582658641244966555997783002587\n",
        "main(length_of_msg, a, u)"
      ],
      "metadata": {
        "id": "VR5QpJGcouzI",
        "colab": {
          "base_uri": "https://localhost:8080/"
        },
        "outputId": "e8f202bf-5941-41b5-f1e1-656d5f555367"
      },
      "execution_count": 49,
      "outputs": [
        {
          "output_type": "stream",
          "name": "stdout",
          "text": [
            "Message sent: 2479515631440564111848484445589631447856582658641244966555997783002587\n",
            "Success\n",
            "Message receieved =  2479515631440564111848484445589631447856582658641244966555997783002587\n"
          ]
        }
      ]
    }
  ],
  "metadata": {
    "colab": {
      "provenance": [],
      "include_colab_link": true
    },
    "kernelspec": {
      "display_name": "Python 3",
      "name": "python3"
    },
    "language_info": {
      "name": "python"
    }
  },
  "nbformat": 4,
  "nbformat_minor": 0
}